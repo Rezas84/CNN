{
 "cells": [
  {
   "cell_type": "code",
   "execution_count": 1,
   "id": "ff078698-359c-497b-8ad8-1d93e7e25ccb",
   "metadata": {},
   "outputs": [],
   "source": [
    "import numpy as np\n",
    "import matplotlib.pyplot as plt\n",
    "import keras\n",
    "from keras.models import Sequential\n",
    "import seaborn as sns\n",
    "from keras.datasets import mnist\n",
    "from keras import models\n",
    "from keras.utils import to_categorical\n",
    "import cv2\n",
    "import copy\n",
    "from skimage.transform import resize\n",
    "from tensorflow.keras.utils import img_to_array\n",
    "from tensorflow.keras.utils import load_img"
   ]
  },
  {
   "cell_type": "code",
   "execution_count": 11,
   "id": "60130283-1476-42dd-a202-a53c321c05e7",
   "metadata": {},
   "outputs": [],
   "source": [
    "(x_train, y_train), (x_test, y_test) = mnist.load_data()"
   ]
  },
  {
   "cell_type": "code",
   "execution_count": 12,
   "id": "ea4ea5be-7015-453a-b82d-76c503e4d49a",
   "metadata": {},
   "outputs": [
    {
     "name": "stdout",
     "output_type": "stream",
     "text": [
      "(60000, 28, 28) (60000,)\n",
      "(10000, 28, 28) (10000,)\n"
     ]
    }
   ],
   "source": [
    "print(x_train.shape, y_train.shape)\n",
    "print(x_test.shape, y_test.shape)"
   ]
  },
  {
   "cell_type": "code",
   "execution_count": 13,
   "id": "1e6239c5-e422-49dd-8e36-2b2f7bc5d807",
   "metadata": {},
   "outputs": [
    {
     "data": {
      "image/png": "[encoded data removed]",
      "text/plain": [
       "<Figure size 2000x2000 with 10 Axes>"
      ]
     },
     "metadata": {},
     "output_type": "display_data"
    }
   ],
   "source": [
    "numberOFclasses = 10\n",
    "f, ax = plt.subplots(1, numberOFclasses, figsize=(20,20))\n",
    "\n",
    "for i in range(0, numberOFclasses):\n",
    "    sample = x_train[y_train == i][0]\n",
    "    ax[i].imshow(sample, cmap='gray')\n",
    "    ax[i].set_title(\"Label: {}\".format(i), fontsize=16)"
   ]
  },
  {
   "cell_type": "code",
   "execution_count": 14,
   "id": "33fb0909-ac35-496a-8bf2-bb9d7115ab6b",
   "metadata": {},
   "outputs": [
    {
     "name": "stdout",
     "output_type": "stream",
     "text": [
      "x_train shape: (60000, 28, 28, 1)\n",
      "60000 train samples\n",
      "10000 test samples\n"
     ]
    }
   ],
   "source": [
    "# Scale images to the [0, 1] range\n",
    "x_train = x_train.astype(\"float32\") / 255\n",
    "x_test = x_test.astype(\"float32\") / 255\n",
    "# Make sure images have shape (28, 28, 1)\n",
    "x_train = np.expand_dims(x_train, -1)\n",
    "x_test = np.expand_dims(x_test, -1)\n",
    "print(\"x_train shape:\", x_train.shape)\n",
    "print(x_train.shape[0], \"train samples\")\n",
    "print(x_test.shape[0], \"test samples\")\n",
    "\n",
    "\n",
    "# convert class vectors to binary class matrices\n",
    "y_train = keras.utils.to_categorical(y_train, numberOFclasses)\n",
    "y_test = keras.utils.to_categorical(y_test, numberOFclasses)"
   ]
  },
  {
   "cell_type": "code",
   "execution_count": 60,
   "id": "d5935f34-3be1-4eca-aecb-3c4b48a35805",
   "metadata": {},
   "outputs": [
    {
     "data": {
      "text/plain": [
       "(28, 28, 1)"
      ]
     },
     "execution_count": 60,
     "metadata": {},
     "output_type": "execute_result"
    }
   ],
   "source": [
    "x_test[0].shape"
   ]
  },
  {
   "cell_type": "code",
   "execution_count": 39,
   "id": "121981cb-5350-4e2f-b6e5-e7a734b70a40",
   "metadata": {},
   "outputs": [],
   "source": [
    "model = keras.Sequential(\n",
    "    [\n",
    "      keras.layers.Conv2D(32,(3,3), activation='relu',padding='same', input_shape = (28,28,1)),\n",
    "      keras.layers.Conv2D(32,(3,3), activation='relu'),\n",
    "      keras.layers.MaxPooling2D((2,2)),\n",
    "      keras.layers.Conv2D(64,(3,3), activation='relu'),\n",
    "      keras.layers.MaxPooling2D((2,2)),\n",
    "      keras.layers.Conv2D(64,(3,3), activation='relu'),\n",
    "      keras.layers.Flatten(),\n",
    "      #keras.layers.Dense(64,activation = 'relu'),\n",
    "      keras.layers.Dense(10, activation= 'softmax')\n",
    "    ]\n",
    ")"
   ]
  },
  {
   "cell_type": "code",
   "execution_count": 33,
   "id": "43268c83-80b4-4048-8717-4652acbfdf16",
   "metadata": {},
   "outputs": [
    {
     "name": "stdout",
     "output_type": "stream",
     "text": [
      "Model: \"sequential_2\"\n",
      "_________________________________________________________________\n",
      " Layer (type)                Output Shape              Param #   \n",
      "=================================================================\n",
      " conv2d_8 (Conv2D)           (None, 28, 28, 32)        320       \n",
      "                                                                 \n",
      " conv2d_9 (Conv2D)           (None, 26, 26, 32)        9248      \n",
      "                                                                 \n",
      " max_pooling2d_4 (MaxPooling  (None, 13, 13, 32)       0         \n",
      " 2D)                                                             \n",
      "                                                                 \n",
      " conv2d_10 (Conv2D)          (None, 11, 11, 64)        18496     \n",
      "                                                                 \n",
      " max_pooling2d_5 (MaxPooling  (None, 5, 5, 64)         0         \n",
      " 2D)                                                             \n",
      "                                                                 \n",
      " conv2d_11 (Conv2D)          (None, 3, 3, 64)          36928     \n",
      "                                                                 \n",
      " flatten_2 (Flatten)         (None, 576)               0         \n",
      "                                                                 \n",
      " dense_2 (Dense)             (None, 10)                5770      \n",
      "                                                                 \n",
      "=================================================================\n",
      "Total params: 70,762\n",
      "Trainable params: 70,762\n",
      "Non-trainable params: 0\n",
      "_________________________________________________________________\n"
     ]
    }
   ],
   "source": [
    "model.summary()"
   ]
  },
  {
   "cell_type": "code",
   "execution_count": 40,
   "id": "65ffe76c-cddf-485d-a444-0ba72f6aac4d",
   "metadata": {},
   "outputs": [],
   "source": [
    "sgd=keras.optimizers.SGD(clipvalue=1.0)\n",
    "adam=keras.optimizers.Adam(learning_rate=0.01)\n",
    "\n",
    "model_checkpoint_callback = keras.callbacks.ModelCheckpoint(\"digits.h5\",monitor='val_accuracy',save_best_only=True)\n",
    "EarlyStopping1=keras.callbacks.EarlyStopping( monitor=\"val_accuracy\",patience=5,restore_best_weights=True)\n",
    "model.compile(optimizer = adam,loss ='categorical_crossentropy',metrics = ['accuracy'])"
   ]
  },
  {
   "cell_type": "code",
   "execution_count": 41,
   "id": "6acae29b-d7e7-4f32-8d1e-c51a9cd744e5",
   "metadata": {},
   "outputs": [
    {
     "name": "stdout",
     "output_type": "stream",
     "text": [
      "Epoch 1/30\n",
      "844/844 [==============================] - 7s 7ms/step - loss: 0.1761 - accuracy: 0.9441 - val_loss: 0.0776 - val_accuracy: 0.9755\n",
      "Epoch 2/30\n",
      "844/844 [==============================] - 6s 7ms/step - loss: 0.0710 - accuracy: 0.9781 - val_loss: 0.0526 - val_accuracy: 0.9838\n",
      "Epoch 3/30\n",
      "844/844 [==============================] - 6s 7ms/step - loss: 0.0644 - accuracy: 0.9806 - val_loss: 0.0623 - val_accuracy: 0.9840\n",
      "Epoch 4/30\n",
      "844/844 [==============================] - 6s 7ms/step - loss: 0.0647 - accuracy: 0.9804 - val_loss: 0.0508 - val_accuracy: 0.9855\n",
      "Epoch 5/30\n",
      "844/844 [==============================] - 6s 7ms/step - loss: 0.0547 - accuracy: 0.9834 - val_loss: 0.0537 - val_accuracy: 0.9842\n",
      "Epoch 6/30\n",
      "844/844 [==============================] - 6s 7ms/step - loss: 0.0554 - accuracy: 0.9832 - val_loss: 0.0757 - val_accuracy: 0.9790\n",
      "Epoch 7/30\n",
      "844/844 [==============================] - 6s 7ms/step - loss: 0.0545 - accuracy: 0.9835 - val_loss: 0.0695 - val_accuracy: 0.9832\n",
      "Epoch 8/30\n",
      "844/844 [==============================] - 6s 7ms/step - loss: 0.0485 - accuracy: 0.9849 - val_loss: 0.0572 - val_accuracy: 0.9842\n",
      "Epoch 9/30\n",
      "844/844 [==============================] - 6s 7ms/step - loss: 0.0517 - accuracy: 0.9845 - val_loss: 0.0632 - val_accuracy: 0.9833\n"
     ]
    }
   ],
   "source": [
    "history=model.fit(x_train,y_train, epochs=30, batch_size = 64,validation_split=0.1,callbacks=[model_checkpoint_callback,EarlyStopping1])"
   ]
  },
  {
   "cell_type": "code",
   "execution_count": 42,
   "id": "ba9aa77a-2757-48c3-8467-6a54a75de284",
   "metadata": {},
   "outputs": [
    {
     "data": {
      "text/plain": [
       "<matplotlib.legend.Legend at 0x25fbfc326a0>"
      ]
     },
     "execution_count": 42,
     "metadata": {},
     "output_type": "execute_result"
    },
    {
     "data": {
      "image/png": "[encoded data removed]",
      "text/plain": [
       "<Figure size 1200x500 with 1 Axes>"
      ]
     },
     "metadata": {},
     "output_type": "display_data"
    }
   ],
   "source": [
    "fig,ax = plt.subplots(figsize=(12,5))\n",
    "ax=plt.plot(history.history[\"loss\"],label=\"loss\")\n",
    "ax=plt.plot(history.history[\"accuracy\"],label=\"accuracy\")\n",
    "ax=plt.plot(history.history[\"val_loss\"],label=\"val_loss\")\n",
    "ax=plt.plot(history.history[\"val_accuracy\"],label=\"val_accuracy\")\n",
    "plt.legend()"
   ]
  },
  {
   "cell_type": "code",
   "execution_count": 43,
   "id": "b35b6cb0-d3c9-44db-91dd-f1108a313102",
   "metadata": {},
   "outputs": [
    {
     "name": "stdout",
     "output_type": "stream",
     "text": [
      "313/313 [==============================] - 1s 4ms/step - loss: 0.0520 - accuracy: 0.9834\n",
      "Test Loss: 0.0519833080470562, Test Accuracy: 0.9833999872207642\n"
     ]
    }
   ],
   "source": [
    "test_loss, test_acc = model.evaluate(x_test, y_test)\n",
    "print(\"Loss: {},Accuracy: {}\".format(test_loss, test_acc))"
   ]
  },
  {
   "cell_type": "code",
   "execution_count": 44,
   "id": "5aa4f591-e223-47ca-a9e2-3d5b58f947db",
   "metadata": {},
   "outputs": [],
   "source": [
    "#model1=keras.models.load_model(\"digits.h5\")"
   ]
  },
  {
   "cell_type": "code",
   "execution_count": 45,
   "id": "e3a9aea3-6572-4ea9-b6a8-8f1183e97f73",
   "metadata": {},
   "outputs": [
    {
     "name": "stdout",
     "output_type": "stream",
     "text": [
      "313/313 [==============================] - 1s 3ms/step\n",
      "[7 2 1 ... 4 5 6]\n"
     ]
    }
   ],
   "source": [
    "y_pred = model.predict(x_test)\n",
    "y_pred_classes = np.argmax(y_pred, axis=1)\n",
    "print(y_pred_classes)"
   ]
  },
  {
   "cell_type": "code",
   "execution_count": null,
   "id": "636e9bfb-45f8-44cd-abff-cddfeb0e7e66",
   "metadata": {},
   "outputs": [],
   "source": []
  },
  {
   "cell_type": "code",
   "execution_count": 39,
   "id": "5f33f5fe-16f9-4cd2-aa1e-7f06cd5bc668",
   "metadata": {},
   "outputs": [
    {
     "data": {
      "text/plain": [
       "(10000, 28, 28, 1)"
      ]
     },
     "execution_count": 39,
     "metadata": {},
     "output_type": "execute_result"
    }
   ],
   "source": [
    "x_test.shape"
   ]
  },
  {
   "cell_type": "code",
   "execution_count": 54,
   "id": "d2b47a35-d8cd-4720-89a3-9c902f41bb7e",
   "metadata": {},
   "outputs": [
    {
     "name": "stdout",
     "output_type": "stream",
     "text": [
      "9858\n"
     ]
    },
    {
     "data": {
      "text/plain": [
       "<matplotlib.image.AxesImage at 0x2614823dcd0>"
      ]
     },
     "execution_count": 54,
     "metadata": {},
     "output_type": "execute_result"
    },
    {
     "data": {
      "image/png": "[encoded data removed]",
      "text/plain": [
       "<Figure size 640x480 with 1 Axes>"
      ]
     },
     "metadata": {},
     "output_type": "display_data"
    }
   ],
   "source": [
    "random_idx = np.random.choice(len(x_test))\n",
    "print(random_idx)\n",
    "x_sample = x_test[random_idx]\n",
    "y_true = np.argmax(y_test, axis=1)\n",
    "y_sample_true = y_true[random_idx]\n",
    "y_sample_pred_class = y_pred_classes[random_idx]\n",
    "\n",
    "plt.title(\"Predicted: {}, True: {}\".format(y_sample_pred_class, y_sample_true), fontsize=16)\n",
    "plt.imshow(x_sample.reshape(28, 28), cmap='gray')"
   ]
  },
  {
   "cell_type": "code",
   "execution_count": 41,
   "id": "f6df327a-b9c5-4397-8b8a-52a5b2fbc1df",
   "metadata": {},
   "outputs": [
    {
     "name": "stdout",
     "output_type": "stream",
     "text": [
      "(28, 28, 1)\n"
     ]
    },
    {
     "data": {
      "text/plain": [
       "<matplotlib.image.AxesImage at 0x14f4aa9b7f0>"
      ]
     },
     "execution_count": 41,
     "metadata": {},
     "output_type": "execute_result"
    },
    {
     "data": {
      "image/png": "[encoded data removed]",
      "text/plain": [
       "<Figure size 640x480 with 1 Axes>"
      ]
     },
     "metadata": {},
     "output_type": "display_data"
    }
   ],
   "source": [
    "print(x_test[9830].shape)\n",
    "plt.imshow(x_test[9830])"
   ]
  },
  {
   "cell_type": "code",
   "execution_count": 2,
   "id": "904ddc31-494a-4a8b-8757-67664b8c342b",
   "metadata": {},
   "outputs": [],
   "source": [
    "model1=keras.models.load_model(\"digits.h5\")"
   ]
  },
  {
   "cell_type": "code",
   "execution_count": 5,
   "id": "440165ac-cc9d-4fbc-9c97-a88dce439cce",
   "metadata": {},
   "outputs": [
    {
     "name": "stdout",
     "output_type": "stream",
     "text": [
      "1/1 [==============================] - 0s 19ms/step\n",
      "[5]\n"
     ]
    },
    {
     "data": {
      "text/plain": [
       "<matplotlib.image.AxesImage at 0x1e70e6ef4c0>"
      ]
     },
     "execution_count": 5,
     "metadata": {},
     "output_type": "execute_result"
    },
    {
     "data": {
      "image/png": "[encoded data removed]",
      "text/plain": [
       "<Figure size 640x480 with 1 Axes>"
      ]
     },
     "metadata": {},
     "output_type": "display_data"
    }
   ],
   "source": [
    "img3_1=load_img('D:\\\\A.my documents\\\\A.opencv\\\\A.Python\\\\MNIST\\\\sample\\\\779.jpg', grayscale=True, target_size=(28, 28))\n",
    "img3=copy.copy(img3_1)\n",
    "\n",
    "img = img_to_array(img3)\n",
    "\n",
    "img = img.reshape(1, 28, 28, 1)\n",
    "img = img.astype('float32')\n",
    "img = img / 255.0\n",
    "\n",
    "\n",
    "y_pred1 = model1.predict(img)\n",
    "y_pred1 = np.argmax(y_pred1, axis=1)\n",
    "print(y_pred1)\n",
    "plt.imshow(img3_1, cmap='gray')"
   ]
  },
  {
   "cell_type": "code",
   "execution_count": null,
   "id": "1b0fbbe4-ba31-4292-8708-ac80a91d7fa1",
   "metadata": {},
   "outputs": [],
   "source": []
  }
 ],
 "metadata": {
  "kernelspec": {
   "display_name": "Python 3 (ipykernel)",
   "language": "python",
   "name": "python3"
  },
  "language_info": {
   "codemirror_mode": {
    "name": "ipython",
    "version": 3
   },
   "file_extension": ".py",
   "mimetype": "text/x-python",
   "name": "python",
   "nbconvert_exporter": "python",
   "pygments_lexer": "ipython3",
   "version": "3.8.5"
  }
 },
 "nbformat": 4,
 "nbformat_minor": 5
}
