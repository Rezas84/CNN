{
 "cells": [
  {
   "cell_type": "code",
   "execution_count": 1,
   "id": "ff078698-359c-497b-8ad8-1d93e7e25ccb",
   "metadata": {},
   "outputs": [
    {
     "data": {
      "text/plain": [
       "'2.11.0'"
      ]
     },
     "execution_count": 1,
     "metadata": {},
     "output_type": "execute_result"
    }
   ],
   "source": [
    "import numpy as np\n",
    "import matplotlib.pyplot as plt\n",
    "import pandas as pd\n",
    "import keras\n",
    "from sklearn.model_selection import train_test_split\n",
    "from keras.models import Sequential\n",
    "import seaborn as sns\n",
    "from keras.datasets import mnist\n",
    "from keras import models\n",
    "from keras.utils import to_categorical\n",
    "import cv2\n",
    "import copy\n",
    "from skimage.transform import resize\n",
    "from tensorflow.keras.utils import img_to_array\n",
    "from tensorflow.keras.utils import load_img\n",
    "keras.__version__"
   ]
  },
  {
   "cell_type": "code",
   "execution_count": 2,
   "id": "3f37ada1-da05-442f-9f38-95d6aa6c0d89",
   "metadata": {},
   "outputs": [
    {
     "data": {
      "text/html": [
       "<div>\n",
       "<style scoped>\n",
       "    .dataframe tbody tr th:only-of-type {\n",
       "        vertical-align: middle;\n",
       "    }\n",
       "\n",
       "    .dataframe tbody tr th {\n",
       "        vertical-align: top;\n",
       "    }\n",
       "\n",
       "    .dataframe thead th {\n",
       "        text-align: right;\n",
       "    }\n",
       "</style>\n",
       "<table border=\"1\" class=\"dataframe\">\n",
       "  <thead>\n",
       "    <tr style=\"text-align: right;\">\n",
       "      <th></th>\n",
       "      <th>0</th>\n",
       "      <th>1</th>\n",
       "      <th>2</th>\n",
       "      <th>3</th>\n",
       "      <th>4</th>\n",
       "      <th>5</th>\n",
       "      <th>6</th>\n",
       "      <th>7</th>\n",
       "      <th>8</th>\n",
       "      <th>9</th>\n",
       "      <th>...</th>\n",
       "      <th>775</th>\n",
       "      <th>776</th>\n",
       "      <th>777</th>\n",
       "      <th>778</th>\n",
       "      <th>779</th>\n",
       "      <th>780</th>\n",
       "      <th>781</th>\n",
       "      <th>782</th>\n",
       "      <th>783</th>\n",
       "      <th>784</th>\n",
       "    </tr>\n",
       "  </thead>\n",
       "  <tbody>\n",
       "    <tr>\n",
       "      <th>0</th>\n",
       "      <td>8</td>\n",
       "      <td>0</td>\n",
       "      <td>0</td>\n",
       "      <td>0</td>\n",
       "      <td>0</td>\n",
       "      <td>0</td>\n",
       "      <td>0</td>\n",
       "      <td>0</td>\n",
       "      <td>0</td>\n",
       "      <td>0</td>\n",
       "      <td>...</td>\n",
       "      <td>0</td>\n",
       "      <td>0</td>\n",
       "      <td>0</td>\n",
       "      <td>0</td>\n",
       "      <td>0</td>\n",
       "      <td>0</td>\n",
       "      <td>0</td>\n",
       "      <td>0</td>\n",
       "      <td>0</td>\n",
       "      <td>0</td>\n",
       "    </tr>\n",
       "    <tr>\n",
       "      <th>1</th>\n",
       "      <td>9</td>\n",
       "      <td>0</td>\n",
       "      <td>0</td>\n",
       "      <td>0</td>\n",
       "      <td>0</td>\n",
       "      <td>0</td>\n",
       "      <td>0</td>\n",
       "      <td>0</td>\n",
       "      <td>0</td>\n",
       "      <td>0</td>\n",
       "      <td>...</td>\n",
       "      <td>0</td>\n",
       "      <td>0</td>\n",
       "      <td>0</td>\n",
       "      <td>0</td>\n",
       "      <td>0</td>\n",
       "      <td>0</td>\n",
       "      <td>0</td>\n",
       "      <td>0</td>\n",
       "      <td>0</td>\n",
       "      <td>0</td>\n",
       "    </tr>\n",
       "    <tr>\n",
       "      <th>2</th>\n",
       "      <td>6</td>\n",
       "      <td>0</td>\n",
       "      <td>0</td>\n",
       "      <td>0</td>\n",
       "      <td>0</td>\n",
       "      <td>0</td>\n",
       "      <td>0</td>\n",
       "      <td>0</td>\n",
       "      <td>0</td>\n",
       "      <td>0</td>\n",
       "      <td>...</td>\n",
       "      <td>0</td>\n",
       "      <td>0</td>\n",
       "      <td>0</td>\n",
       "      <td>0</td>\n",
       "      <td>0</td>\n",
       "      <td>0</td>\n",
       "      <td>0</td>\n",
       "      <td>0</td>\n",
       "      <td>0</td>\n",
       "      <td>0</td>\n",
       "    </tr>\n",
       "    <tr>\n",
       "      <th>3</th>\n",
       "      <td>3</td>\n",
       "      <td>0</td>\n",
       "      <td>0</td>\n",
       "      <td>0</td>\n",
       "      <td>0</td>\n",
       "      <td>0</td>\n",
       "      <td>0</td>\n",
       "      <td>0</td>\n",
       "      <td>0</td>\n",
       "      <td>0</td>\n",
       "      <td>...</td>\n",
       "      <td>0</td>\n",
       "      <td>0</td>\n",
       "      <td>0</td>\n",
       "      <td>0</td>\n",
       "      <td>0</td>\n",
       "      <td>0</td>\n",
       "      <td>0</td>\n",
       "      <td>0</td>\n",
       "      <td>0</td>\n",
       "      <td>0</td>\n",
       "    </tr>\n",
       "    <tr>\n",
       "      <th>4</th>\n",
       "      <td>6</td>\n",
       "      <td>0</td>\n",
       "      <td>0</td>\n",
       "      <td>0</td>\n",
       "      <td>0</td>\n",
       "      <td>0</td>\n",
       "      <td>0</td>\n",
       "      <td>0</td>\n",
       "      <td>0</td>\n",
       "      <td>0</td>\n",
       "      <td>...</td>\n",
       "      <td>0</td>\n",
       "      <td>0</td>\n",
       "      <td>0</td>\n",
       "      <td>0</td>\n",
       "      <td>0</td>\n",
       "      <td>0</td>\n",
       "      <td>0</td>\n",
       "      <td>0</td>\n",
       "      <td>0</td>\n",
       "      <td>0</td>\n",
       "    </tr>\n",
       "    <tr>\n",
       "      <th>...</th>\n",
       "      <td>...</td>\n",
       "      <td>...</td>\n",
       "      <td>...</td>\n",
       "      <td>...</td>\n",
       "      <td>...</td>\n",
       "      <td>...</td>\n",
       "      <td>...</td>\n",
       "      <td>...</td>\n",
       "      <td>...</td>\n",
       "      <td>...</td>\n",
       "      <td>...</td>\n",
       "      <td>...</td>\n",
       "      <td>...</td>\n",
       "      <td>...</td>\n",
       "      <td>...</td>\n",
       "      <td>...</td>\n",
       "      <td>...</td>\n",
       "      <td>...</td>\n",
       "      <td>...</td>\n",
       "      <td>...</td>\n",
       "      <td>...</td>\n",
       "    </tr>\n",
       "    <tr>\n",
       "      <th>239995</th>\n",
       "      <td>4</td>\n",
       "      <td>0</td>\n",
       "      <td>0</td>\n",
       "      <td>0</td>\n",
       "      <td>0</td>\n",
       "      <td>0</td>\n",
       "      <td>0</td>\n",
       "      <td>0</td>\n",
       "      <td>0</td>\n",
       "      <td>0</td>\n",
       "      <td>...</td>\n",
       "      <td>0</td>\n",
       "      <td>0</td>\n",
       "      <td>0</td>\n",
       "      <td>0</td>\n",
       "      <td>0</td>\n",
       "      <td>0</td>\n",
       "      <td>0</td>\n",
       "      <td>0</td>\n",
       "      <td>0</td>\n",
       "      <td>0</td>\n",
       "    </tr>\n",
       "    <tr>\n",
       "      <th>239996</th>\n",
       "      <td>2</td>\n",
       "      <td>0</td>\n",
       "      <td>0</td>\n",
       "      <td>0</td>\n",
       "      <td>0</td>\n",
       "      <td>0</td>\n",
       "      <td>0</td>\n",
       "      <td>0</td>\n",
       "      <td>0</td>\n",
       "      <td>0</td>\n",
       "      <td>...</td>\n",
       "      <td>0</td>\n",
       "      <td>0</td>\n",
       "      <td>0</td>\n",
       "      <td>0</td>\n",
       "      <td>0</td>\n",
       "      <td>0</td>\n",
       "      <td>0</td>\n",
       "      <td>0</td>\n",
       "      <td>0</td>\n",
       "      <td>0</td>\n",
       "    </tr>\n",
       "    <tr>\n",
       "      <th>239997</th>\n",
       "      <td>1</td>\n",
       "      <td>0</td>\n",
       "      <td>0</td>\n",
       "      <td>0</td>\n",
       "      <td>0</td>\n",
       "      <td>0</td>\n",
       "      <td>0</td>\n",
       "      <td>0</td>\n",
       "      <td>0</td>\n",
       "      <td>0</td>\n",
       "      <td>...</td>\n",
       "      <td>0</td>\n",
       "      <td>0</td>\n",
       "      <td>0</td>\n",
       "      <td>0</td>\n",
       "      <td>0</td>\n",
       "      <td>0</td>\n",
       "      <td>0</td>\n",
       "      <td>0</td>\n",
       "      <td>0</td>\n",
       "      <td>0</td>\n",
       "    </tr>\n",
       "    <tr>\n",
       "      <th>239998</th>\n",
       "      <td>1</td>\n",
       "      <td>0</td>\n",
       "      <td>0</td>\n",
       "      <td>0</td>\n",
       "      <td>0</td>\n",
       "      <td>0</td>\n",
       "      <td>0</td>\n",
       "      <td>0</td>\n",
       "      <td>0</td>\n",
       "      <td>0</td>\n",
       "      <td>...</td>\n",
       "      <td>0</td>\n",
       "      <td>0</td>\n",
       "      <td>0</td>\n",
       "      <td>0</td>\n",
       "      <td>0</td>\n",
       "      <td>0</td>\n",
       "      <td>0</td>\n",
       "      <td>0</td>\n",
       "      <td>0</td>\n",
       "      <td>0</td>\n",
       "    </tr>\n",
       "    <tr>\n",
       "      <th>239999</th>\n",
       "      <td>0</td>\n",
       "      <td>0</td>\n",
       "      <td>0</td>\n",
       "      <td>0</td>\n",
       "      <td>0</td>\n",
       "      <td>0</td>\n",
       "      <td>0</td>\n",
       "      <td>0</td>\n",
       "      <td>0</td>\n",
       "      <td>0</td>\n",
       "      <td>...</td>\n",
       "      <td>0</td>\n",
       "      <td>0</td>\n",
       "      <td>0</td>\n",
       "      <td>0</td>\n",
       "      <td>0</td>\n",
       "      <td>0</td>\n",
       "      <td>0</td>\n",
       "      <td>0</td>\n",
       "      <td>0</td>\n",
       "      <td>0</td>\n",
       "    </tr>\n",
       "  </tbody>\n",
       "</table>\n",
       "<p>240000 rows × 785 columns</p>\n",
       "</div>"
      ],
      "text/plain": [
       "        0    1    2    3    4    5    6    7    8    9    ...  775  776  777  \\\n",
       "0         8    0    0    0    0    0    0    0    0    0  ...    0    0    0   \n",
       "1         9    0    0    0    0    0    0    0    0    0  ...    0    0    0   \n",
       "2         6    0    0    0    0    0    0    0    0    0  ...    0    0    0   \n",
       "3         3    0    0    0    0    0    0    0    0    0  ...    0    0    0   \n",
       "4         6    0    0    0    0    0    0    0    0    0  ...    0    0    0   \n",
       "...     ...  ...  ...  ...  ...  ...  ...  ...  ...  ...  ...  ...  ...  ...   \n",
       "239995    4    0    0    0    0    0    0    0    0    0  ...    0    0    0   \n",
       "239996    2    0    0    0    0    0    0    0    0    0  ...    0    0    0   \n",
       "239997    1    0    0    0    0    0    0    0    0    0  ...    0    0    0   \n",
       "239998    1    0    0    0    0    0    0    0    0    0  ...    0    0    0   \n",
       "239999    0    0    0    0    0    0    0    0    0    0  ...    0    0    0   \n",
       "\n",
       "        778  779  780  781  782  783  784  \n",
       "0         0    0    0    0    0    0    0  \n",
       "1         0    0    0    0    0    0    0  \n",
       "2         0    0    0    0    0    0    0  \n",
       "3         0    0    0    0    0    0    0  \n",
       "4         0    0    0    0    0    0    0  \n",
       "...     ...  ...  ...  ...  ...  ...  ...  \n",
       "239995    0    0    0    0    0    0    0  \n",
       "239996    0    0    0    0    0    0    0  \n",
       "239997    0    0    0    0    0    0    0  \n",
       "239998    0    0    0    0    0    0    0  \n",
       "239999    0    0    0    0    0    0    0  \n",
       "\n",
       "[240000 rows x 785 columns]"
      ]
     },
     "execution_count": 2,
     "metadata": {},
     "output_type": "execute_result"
    }
   ],
   "source": [
    "# Load training set\n",
    "tr=pd.read_csv(\"D:\\\\Bachelor\\\\Machine-Learning\\\\datasets\\\\emnist-digits-train.csv\",header=None)\n",
    "tr"
   ]
  },
  {
   "cell_type": "code",
   "execution_count": 3,
   "id": "3814ff76-9a85-4b1a-93c9-962428d626dc",
   "metadata": {},
   "outputs": [
    {
     "name": "stdout",
     "output_type": "stream",
     "text": [
      "        1    2    3    4    5    6    7    8    9    10   ...  775  776  777  \\\n",
      "0         0    0    0    0    0    0    0    0    0    0  ...    0    0    0   \n",
      "1         0    0    0    0    0    0    0    0    0    0  ...    0    0    0   \n",
      "2         0    0    0    0    0    0    0    0    0    0  ...    0    0    0   \n",
      "3         0    0    0    0    0    0    0    0    0    0  ...    0    0    0   \n",
      "4         0    0    0    0    0    0    0    0    0    0  ...    0    0    0   \n",
      "...     ...  ...  ...  ...  ...  ...  ...  ...  ...  ...  ...  ...  ...  ...   \n",
      "239995    0    0    0    0    0    0    0    0    0    0  ...    0    0    0   \n",
      "239996    0    0    0    0    0    0    0    0    0    0  ...    0    0    0   \n",
      "239997    0    0    0    0    0    0    0    0    0    0  ...    0    0    0   \n",
      "239998    0    0    0    0    0    0    0    0    0    0  ...    0    0    0   \n",
      "239999    0    0    0    0    0    0    0    0    0    0  ...    0    0    0   \n",
      "\n",
      "        778  779  780  781  782  783  784  \n",
      "0         0    0    0    0    0    0    0  \n",
      "1         0    0    0    0    0    0    0  \n",
      "2         0    0    0    0    0    0    0  \n",
      "3         0    0    0    0    0    0    0  \n",
      "4         0    0    0    0    0    0    0  \n",
      "...     ...  ...  ...  ...  ...  ...  ...  \n",
      "239995    0    0    0    0    0    0    0  \n",
      "239996    0    0    0    0    0    0    0  \n",
      "239997    0    0    0    0    0    0    0  \n",
      "239998    0    0    0    0    0    0    0  \n",
      "239999    0    0    0    0    0    0    0  \n",
      "\n",
      "[240000 rows x 784 columns]\n"
     ]
    }
   ],
   "source": [
    "tr_1=tr.drop(tr.columns[[0]],axis=1)\n",
    "print(tr_1)"
   ]
  },
  {
   "cell_type": "code",
   "execution_count": 4,
   "id": "cafb9861-30e4-4063-921d-75abfeb9d08c",
   "metadata": {},
   "outputs": [
    {
     "data": {
      "text/plain": [
       "(240000, 28, 28, 1)"
      ]
     },
     "execution_count": 4,
     "metadata": {},
     "output_type": "execute_result"
    }
   ],
   "source": [
    "tr_1=np.array(tr_1)\n",
    "tr_2 = tr_1.reshape(tr_1.shape[0], 28, 28,1)\n",
    "tr_2.shape"
   ]
  },
  {
   "cell_type": "code",
   "execution_count": 5,
   "id": "cfa45f78-cebc-4893-8010-51cb7199896f",
   "metadata": {},
   "outputs": [
    {
     "name": "stdout",
     "output_type": "stream",
     "text": [
      "0         8\n",
      "1         9\n",
      "2         6\n",
      "3         3\n",
      "4         6\n",
      "         ..\n",
      "239995    4\n",
      "239996    2\n",
      "239997    1\n",
      "239998    1\n",
      "239999    0\n",
      "Name: 0, Length: 240000, dtype: int64\n"
     ]
    }
   ],
   "source": [
    "y_train=tr.iloc[:,0]\n",
    "print(y_train)"
   ]
  },
  {
   "cell_type": "code",
   "execution_count": 6,
   "id": "ac7aa316-0876-4af7-a79f-593f6b47f703",
   "metadata": {},
   "outputs": [],
   "source": [
    "# Splitting the data to training and test set\n",
    "x_train, x_test, y_train, y_test = train_test_split(tr_2, y_train, test_size=0.3,random_state=0)"
   ]
  },
  {
   "cell_type": "code",
   "execution_count": 7,
   "id": "60130283-1476-42dd-a202-a53c321c05e7",
   "metadata": {},
   "outputs": [],
   "source": [
    "(x_train, y_train), (x_test, y_test) = mnist.load_data()"
   ]
  },
  {
   "cell_type": "code",
   "execution_count": 8,
   "id": "ea4ea5be-7015-453a-b82d-76c503e4d49a",
   "metadata": {},
   "outputs": [
    {
     "name": "stdout",
     "output_type": "stream",
     "text": [
      "(60000, 28, 28) (60000,)\n",
      "(10000, 28, 28) (10000,)\n"
     ]
    }
   ],
   "source": [
    "print(x_train.shape, y_train.shape)\n",
    "print(x_test.shape, y_test.shape)"
   ]
  },
  {
   "cell_type": "code",
   "execution_count": 9,
   "id": "1e6239c5-e422-49dd-8e36-2b2f7bc5d807",
   "metadata": {},
   "outputs": [
    {
     "data": {
      "image/png": "[encoded data removed]",
      "text/plain": [
       "<Figure size 2000x2000 with 10 Axes>"
      ]
     },
     "metadata": {},
     "output_type": "display_data"
    }
   ],
   "source": [
    "# Specify the labels and the number of classes\n",
    "numberOFclasses = 10\n",
    "f, ax = plt.subplots(1, numberOFclasses, figsize=(20,20))\n",
    "\n",
    "for i in range(0, numberOFclasses):\n",
    "    sample = x_train[y_train == i][0]\n",
    "    ax[i].imshow(sample, cmap='gray')\n",
    "    ax[i].set_title(\"Label: {}\".format(i), fontsize=16)"
   ]
  },
  {
   "cell_type": "code",
   "execution_count": 10,
   "id": "33fb0909-ac35-496a-8bf2-bb9d7115ab6b",
   "metadata": {},
   "outputs": [
    {
     "name": "stdout",
     "output_type": "stream",
     "text": [
      "x_train shape: (60000, 28, 28, 1)\n",
      "60000 train samples\n",
      "10000 test samples\n"
     ]
    }
   ],
   "source": [
    "# Scale images to the [0, 1] range\n",
    "x_train = x_train.astype(\"float32\") / 255\n",
    "x_test = x_test.astype(\"float32\") / 255\n",
    "# Make sure images have shape (28, 28, 1)\n",
    "x_train = np.expand_dims(x_train, -1)\n",
    "x_test = np.expand_dims(x_test, -1)\n",
    "print(\"x_train shape:\", x_train.shape)\n",
    "print(x_train.shape[0], \"train samples\")\n",
    "print(x_test.shape[0], \"test samples\")\n",
    "\n",
    "\n",
    "# convert class vectors to binary class matrices\n",
    "y_train = keras.utils.to_categorical(y_train, numberOFclasses)\n",
    "y_test = keras.utils.to_categorical(y_test, numberOFclasses)"
   ]
  },
  {
   "cell_type": "code",
   "execution_count": 11,
   "id": "d5935f34-3be1-4eca-aecb-3c4b48a35805",
   "metadata": {},
   "outputs": [
    {
     "data": {
      "text/plain": [
       "(28, 28, 1)"
      ]
     },
     "execution_count": 11,
     "metadata": {},
     "output_type": "execute_result"
    }
   ],
   "source": [
    "x_test[0].shape"
   ]
  },
  {
   "cell_type": "code",
   "execution_count": 1,
   "id": "121981cb-5350-4e2f-b6e5-e7a734b70a40",
   "metadata": {},
   "outputs": [
    {
     "ename": "NameError",
     "evalue": "name 'keras' is not defined",
     "output_type": "error",
     "traceback": [
      "\u001b[1;31m---------------------------------------------------------------------------\u001b[0m",
      "\u001b[1;31mNameError\u001b[0m                                 Traceback (most recent call last)",
      "Cell \u001b[1;32mIn [1], line 2\u001b[0m\n\u001b[0;32m      1\u001b[0m \u001b[39m# Creating the model \u001b[39;00m\n\u001b[1;32m----> 2\u001b[0m model \u001b[39m=\u001b[39m keras\u001b[39m.\u001b[39mSequential(\n\u001b[0;32m      3\u001b[0m     [\n\u001b[0;32m      4\u001b[0m       keras\u001b[39m.\u001b[39mlayers\u001b[39m.\u001b[39mConv2D(\u001b[39m32\u001b[39m,(\u001b[39m3\u001b[39m,\u001b[39m3\u001b[39m), activation\u001b[39m=\u001b[39m\u001b[39m'\u001b[39m\u001b[39mrelu\u001b[39m\u001b[39m'\u001b[39m,padding\u001b[39m=\u001b[39m\u001b[39m'\u001b[39m\u001b[39msame\u001b[39m\u001b[39m'\u001b[39m, input_shape \u001b[39m=\u001b[39m (\u001b[39m28\u001b[39m,\u001b[39m28\u001b[39m,\u001b[39m1\u001b[39m)),\n\u001b[0;32m      5\u001b[0m       keras\u001b[39m.\u001b[39mlayers\u001b[39m.\u001b[39mConv2D(\u001b[39m32\u001b[39m,(\u001b[39m3\u001b[39m,\u001b[39m3\u001b[39m), activation\u001b[39m=\u001b[39m\u001b[39m'\u001b[39m\u001b[39mrelu\u001b[39m\u001b[39m'\u001b[39m),\n\u001b[0;32m      6\u001b[0m       keras\u001b[39m.\u001b[39mlayers\u001b[39m.\u001b[39mMaxPooling2D((\u001b[39m2\u001b[39m,\u001b[39m2\u001b[39m)),\n\u001b[0;32m      7\u001b[0m       keras\u001b[39m.\u001b[39mlayers\u001b[39m.\u001b[39mConv2D(\u001b[39m64\u001b[39m,(\u001b[39m3\u001b[39m,\u001b[39m3\u001b[39m), activation\u001b[39m=\u001b[39m\u001b[39m'\u001b[39m\u001b[39mrelu\u001b[39m\u001b[39m'\u001b[39m),\n\u001b[0;32m      8\u001b[0m       keras\u001b[39m.\u001b[39mlayers\u001b[39m.\u001b[39mMaxPooling2D((\u001b[39m2\u001b[39m,\u001b[39m2\u001b[39m)),\n\u001b[0;32m      9\u001b[0m       keras\u001b[39m.\u001b[39mlayers\u001b[39m.\u001b[39mConv2D(\u001b[39m64\u001b[39m,(\u001b[39m3\u001b[39m,\u001b[39m3\u001b[39m), activation\u001b[39m=\u001b[39m\u001b[39m'\u001b[39m\u001b[39mrelu\u001b[39m\u001b[39m'\u001b[39m),\n\u001b[0;32m     10\u001b[0m       keras\u001b[39m.\u001b[39mlayers\u001b[39m.\u001b[39mFlatten(),\n\u001b[0;32m     11\u001b[0m       \u001b[39m#keras.layers.Dense(64,activation = 'relu'),\u001b[39;00m\n\u001b[0;32m     12\u001b[0m       keras\u001b[39m.\u001b[39mlayers\u001b[39m.\u001b[39mDense(\u001b[39m10\u001b[39m, activation\u001b[39m=\u001b[39m \u001b[39m'\u001b[39m\u001b[39msoftmax\u001b[39m\u001b[39m'\u001b[39m)\n\u001b[0;32m     13\u001b[0m     ]\n\u001b[0;32m     14\u001b[0m )\n",
      "\u001b[1;31mNameError\u001b[0m: name 'keras' is not defined"
     ]
    }
   ],
   "source": [
    "# Creating the model\n",
    "# Adding layers to it \n",
    "# Number of filters 32 \n",
    "    # Kernel size 3 specifies the size of the receptive field\n",
    "    # Padding same for zero padding and to \"valid\" if no padding is used\n",
    "    # Only the first Conv layer should specify the input shape\n",
    " # Pooling size specifies the size of the receptive field\n",
    " # Flatten layer collapses the spatial dimensions of the input into the channel dimension\n",
    " # Dense layer that is deeply connected with its preceding layer \n",
    " # which means the neurons of the layer are connected to every neuron of its preceding layer\n",
    "model = keras.Sequential(\n",
    "    [\n",
    "      keras.layers.Conv2D(32,(3,3), activation='relu',padding='same', input_shape = (28,28,1)),\n",
    "      keras.layers.Conv2D(32,(3,3), activation='relu'),\n",
    "      keras.layers.MaxPooling2D((2,2)),\n",
    "      keras.layers.Conv2D(64,(3,3), activation='relu'),\n",
    "      keras.layers.MaxPooling2D((2,2)),\n",
    "      keras.layers.Conv2D(64,(3,3), activation='relu'),\n",
    "      keras.layers.Flatten(),\n",
    "      #keras.layers.Dense(64,activation = 'relu'),\n",
    "      keras.layers.Dense(10, activation= 'softmax')\n",
    "    ]\n",
    ")"
   ]
  },
  {
   "cell_type": "code",
   "execution_count": 13,
   "id": "43268c83-80b4-4048-8717-4652acbfdf16",
   "metadata": {},
   "outputs": [
    {
     "name": "stdout",
     "output_type": "stream",
     "text": [
      "Model: \"sequential\"\n",
      "_________________________________________________________________\n",
      " Layer (type)                Output Shape              Param #   \n",
      "=================================================================\n",
      " conv2d (Conv2D)             (None, 28, 28, 32)        320       \n",
      "                                                                 \n",
      " conv2d_1 (Conv2D)           (None, 26, 26, 32)        9248      \n",
      "                                                                 \n",
      " max_pooling2d (MaxPooling2D  (None, 13, 13, 32)       0         \n",
      " )                                                               \n",
      "                                                                 \n",
      " conv2d_2 (Conv2D)           (None, 11, 11, 64)        18496     \n",
      "                                                                 \n",
      " max_pooling2d_1 (MaxPooling  (None, 5, 5, 64)         0         \n",
      " 2D)                                                             \n",
      "                                                                 \n",
      " conv2d_3 (Conv2D)           (None, 3, 3, 64)          36928     \n",
      "                                                                 \n",
      " flatten (Flatten)           (None, 576)               0         \n",
      "                                                                 \n",
      " dense (Dense)               (None, 10)                5770      \n",
      "                                                                 \n",
      "=================================================================\n",
      "Total params: 70,762\n",
      "Trainable params: 70,762\n",
      "Non-trainable params: 0\n",
      "_________________________________________________________________\n"
     ]
    }
   ],
   "source": [
    "model.summary()"
   ]
  },
  {
   "cell_type": "code",
   "execution_count": 14,
   "id": "65ffe76c-cddf-485d-a444-0ba72f6aac4d",
   "metadata": {},
   "outputs": [],
   "source": [
    "sgd=keras.optimizers.SGD(clipvalue=1.0)\n",
    "adam=keras.optimizers.Adam(learning_rate=0.01)\n",
    "\n",
    "model_checkpoint_callback = keras.callbacks.ModelCheckpoint(\"digits.h5\",monitor='val_accuracy',save_best_only=True)\n",
    "EarlyStopping1=keras.callbacks.EarlyStopping( monitor=\"val_accuracy\",patience=5,restore_best_weights=True)\n",
    "model.compile(optimizer = adam,loss ='categorical_crossentropy',metrics = ['accuracy'])"
   ]
  },
  {
   "cell_type": "code",
   "execution_count": 17,
   "id": "6acae29b-d7e7-4f32-8d1e-c51a9cd744e5",
   "metadata": {},
   "outputs": [
    {
     "name": "stdout",
     "output_type": "stream",
     "text": [
      "Epoch 1/30\n",
      "844/844 [==============================] - 96s 114ms/step - loss: 0.0500 - accuracy: 0.9855 - val_loss: 0.0647 - val_accuracy: 0.9815\n",
      "Epoch 2/30\n",
      "844/844 [==============================] - 103s 122ms/step - loss: 0.0588 - accuracy: 0.9839 - val_loss: 0.0565 - val_accuracy: 0.9852\n",
      "Epoch 3/30\n",
      "844/844 [==============================] - 154s 182ms/step - loss: 0.0546 - accuracy: 0.9846 - val_loss: 0.0680 - val_accuracy: 0.9827\n",
      "Epoch 4/30\n",
      "844/844 [==============================] - 94s 112ms/step - loss: 0.0556 - accuracy: 0.9857 - val_loss: 0.0942 - val_accuracy: 0.9803\n",
      "Epoch 5/30\n",
      "844/844 [==============================] - 104s 124ms/step - loss: 0.0561 - accuracy: 0.9849 - val_loss: 0.0544 - val_accuracy: 0.9875\n",
      "Epoch 6/30\n",
      "844/844 [==============================] - 82s 98ms/step - loss: 0.0586 - accuracy: 0.9844 - val_loss: 0.0722 - val_accuracy: 0.9848\n",
      "Epoch 7/30\n",
      "844/844 [==============================] - 79s 93ms/step - loss: 0.0619 - accuracy: 0.9840 - val_loss: 0.0563 - val_accuracy: 0.9880\n",
      "Epoch 8/30\n",
      "844/844 [==============================] - 84s 100ms/step - loss: 0.0548 - accuracy: 0.9852 - val_loss: 0.0639 - val_accuracy: 0.9835\n",
      "Epoch 9/30\n",
      "844/844 [==============================] - 87s 104ms/step - loss: 0.0526 - accuracy: 0.9855 - val_loss: 0.0860 - val_accuracy: 0.9808\n",
      "Epoch 10/30\n",
      "844/844 [==============================] - 85s 100ms/step - loss: 0.0585 - accuracy: 0.9850 - val_loss: 0.0706 - val_accuracy: 0.9842\n",
      "Epoch 11/30\n",
      "844/844 [==============================] - 86s 102ms/step - loss: 0.0576 - accuracy: 0.9852 - val_loss: 0.0926 - val_accuracy: 0.9803\n",
      "Epoch 12/30\n",
      "844/844 [==============================] - 87s 103ms/step - loss: 0.0552 - accuracy: 0.9856 - val_loss: 0.0709 - val_accuracy: 0.9840\n"
     ]
    }
   ],
   "source": [
    "# Train the model\n",
    "history=model.fit(x_train,y_train, epochs=30, batch_size = 64,validation_split=0.1,callbacks=[model_checkpoint_callback,EarlyStopping1])"
   ]
  },
  {
   "cell_type": "code",
   "execution_count": 18,
   "id": "356c0df8-7cd8-4640-a6de-2b69fb4f2297",
   "metadata": {},
   "outputs": [],
   "source": [
    "model2=keras.models.load_model(\"digits.h5\")"
   ]
  },
  {
   "cell_type": "code",
   "execution_count": 19,
   "id": "ba9aa77a-2757-48c3-8467-6a54a75de284",
   "metadata": {},
   "outputs": [
    {
     "data": {
      "text/plain": [
       "<matplotlib.legend.Legend at 0x2011992cca0>"
      ]
     },
     "execution_count": 19,
     "metadata": {},
     "output_type": "execute_result"
    },
    {
     "data": {
      "image/png": "[encoded data removed]",
      "text/plain": [
       "<Figure size 1200x500 with 1 Axes>"
      ]
     },
     "metadata": {},
     "output_type": "display_data"
    }
   ],
   "source": [
    "# Creating a learning curve\n",
    "fig,ax = plt.subplots(figsize=(12,5))\n",
    "ax=plt.plot(history.history[\"loss\"],label=\"loss\")\n",
    "ax=plt.plot(history.history[\"accuracy\"],label=\"accuracy\")\n",
    "ax=plt.plot(history.history[\"val_loss\"],label=\"val_loss\")\n",
    "ax=plt.plot(history.history[\"val_accuracy\"],label=\"val_accuracy\")\n",
    "plt.legend()"
   ]
  },
  {
   "cell_type": "code",
   "execution_count": 20,
   "id": "b35b6cb0-d3c9-44db-91dd-f1108a313102",
   "metadata": {},
   "outputs": [
    {
     "name": "stdout",
     "output_type": "stream",
     "text": [
      "313/313 [==============================] - 3s 10ms/step - loss: 0.0590 - accuracy: 0.9854\n",
      "Loss: 0.05897236242890358,Accuracy: 0.9854000210762024\n"
     ]
    }
   ],
   "source": [
    "# Evaluate the model\n",
    "test_loss, test_acc = model.evaluate(x_test, y_test)\n",
    "print(\"Loss: {},Accuracy: {}\".format(test_loss, test_acc))"
   ]
  },
  {
   "cell_type": "code",
   "execution_count": 21,
   "id": "5aa4f591-e223-47ca-a9e2-3d5b58f947db",
   "metadata": {},
   "outputs": [],
   "source": [
    "#model1=keras.models.load_model(\"digits.h5\")"
   ]
  },
  {
   "cell_type": "code",
   "execution_count": 22,
   "id": "e3a9aea3-6572-4ea9-b6a8-8f1183e97f73",
   "metadata": {},
   "outputs": [
    {
     "name": "stdout",
     "output_type": "stream",
     "text": [
      "313/313 [==============================] - 7s 9ms/step\n",
      "[7 2 1 ... 4 5 6]\n"
     ]
    }
   ],
   "source": [
    "y_pred = model.predict(x_test)\n",
    "y_pred_classes = np.argmax(y_pred, axis=1)\n",
    "print(y_pred_classes)"
   ]
  },
  {
   "cell_type": "code",
   "execution_count": null,
   "id": "636e9bfb-45f8-44cd-abff-cddfeb0e7e66",
   "metadata": {},
   "outputs": [],
   "source": []
  },
  {
   "cell_type": "code",
   "execution_count": 23,
   "id": "5f33f5fe-16f9-4cd2-aa1e-7f06cd5bc668",
   "metadata": {},
   "outputs": [
    {
     "data": {
      "text/plain": [
       "(10000, 28, 28, 1)"
      ]
     },
     "execution_count": 23,
     "metadata": {},
     "output_type": "execute_result"
    }
   ],
   "source": [
    "x_test.shape"
   ]
  },
  {
   "cell_type": "code",
   "execution_count": 24,
   "id": "d2b47a35-d8cd-4720-89a3-9c902f41bb7e",
   "metadata": {},
   "outputs": [
    {
     "name": "stdout",
     "output_type": "stream",
     "text": [
      "444\n"
     ]
    },
    {
     "data": {
      "text/plain": [
       "<matplotlib.image.AxesImage at 0x20119af9db0>"
      ]
     },
     "execution_count": 24,
     "metadata": {},
     "output_type": "execute_result"
    },
    {
     "data": {
      "image/png": "[encoded data removed]",
      "text/plain": [
       "<Figure size 640x480 with 1 Axes>"
      ]
     },
     "metadata": {},
     "output_type": "display_data"
    }
   ],
   "source": [
    "# Getting a random item and check if the prediction is correct\n",
    "random_idx = np.random.choice(len(x_test))\n",
    "print(random_idx)\n",
    "x_sample = x_test[random_idx]\n",
    "y_true = np.argmax(y_test, axis=1)\n",
    "y_sample_true = y_true[random_idx]\n",
    "y_sample_pred_class = y_pred_classes[random_idx]\n",
    "\n",
    "plt.title(\"Predicted: {}, True: {}\".format(y_sample_pred_class, y_sample_true), fontsize=16)\n",
    "plt.imshow(x_sample.reshape(28, 28), cmap='gray')"
   ]
  },
  {
   "cell_type": "code",
   "execution_count": 25,
   "id": "f6df327a-b9c5-4397-8b8a-52a5b2fbc1df",
   "metadata": {},
   "outputs": [
    {
     "name": "stdout",
     "output_type": "stream",
     "text": [
      "(28, 28, 1)\n"
     ]
    },
    {
     "data": {
      "text/plain": [
       "<matplotlib.image.AxesImage at 0x20119bfaf20>"
      ]
     },
     "execution_count": 25,
     "metadata": {},
     "output_type": "execute_result"
    },
    {
     "data": {
      "image/png": "[encoded data removed]",
      "text/plain": [
       "<Figure size 640x480 with 1 Axes>"
      ]
     },
     "metadata": {},
     "output_type": "display_data"
    }
   ],
   "source": [
    "print(x_test[9830].shape)\n",
    "plt.imshow(x_test[9830])"
   ]
  },
  {
   "cell_type": "code",
   "execution_count": 26,
   "id": "904ddc31-494a-4a8b-8757-67664b8c342b",
   "metadata": {},
   "outputs": [],
   "source": [
    "model1=keras.models.load_model(\"digits.h5\")"
   ]
  },
  {
   "cell_type": "code",
   "execution_count": 27,
   "id": "440165ac-cc9d-4fbc-9c97-a88dce439cce",
   "metadata": {},
   "outputs": [
    {
     "name": "stderr",
     "output_type": "stream",
     "text": [
      "c:\\Users\\narma\\AppData\\Local\\Programs\\Python\\Python310\\lib\\site-packages\\keras\\utils\\image_utils.py:409: UserWarning: grayscale is deprecated. Please use color_mode = \"grayscale\"\n",
      "  warnings.warn(\n"
     ]
    },
    {
     "ename": "FileNotFoundError",
     "evalue": "[Errno 2] No such file or directory: 'D:\\\\A.my documents\\\\A.opencv\\\\A.Python\\\\MNIST\\\\sample\\\\779.jpg'",
     "output_type": "error",
     "traceback": [
      "\u001b[1;31m---------------------------------------------------------------------------\u001b[0m",
      "\u001b[1;31mFileNotFoundError\u001b[0m                         Traceback (most recent call last)",
      "Cell \u001b[1;32mIn [27], line 1\u001b[0m\n\u001b[1;32m----> 1\u001b[0m img3_1\u001b[39m=\u001b[39mload_img(\u001b[39m'\u001b[39;49m\u001b[39mD:\u001b[39;49m\u001b[39m\\\\\u001b[39;49;00m\u001b[39mA.my documents\u001b[39;49m\u001b[39m\\\\\u001b[39;49;00m\u001b[39mA.opencv\u001b[39;49m\u001b[39m\\\\\u001b[39;49;00m\u001b[39mA.Python\u001b[39;49m\u001b[39m\\\\\u001b[39;49;00m\u001b[39mMNIST\u001b[39;49m\u001b[39m\\\\\u001b[39;49;00m\u001b[39msample\u001b[39;49m\u001b[39m\\\\\u001b[39;49;00m\u001b[39m779.jpg\u001b[39;49m\u001b[39m'\u001b[39;49m, grayscale\u001b[39m=\u001b[39;49m\u001b[39mTrue\u001b[39;49;00m, target_size\u001b[39m=\u001b[39;49m(\u001b[39m28\u001b[39;49m, \u001b[39m28\u001b[39;49m))\n\u001b[0;32m      2\u001b[0m img3\u001b[39m=\u001b[39mcopy\u001b[39m.\u001b[39mcopy(img3_1)\n\u001b[0;32m      4\u001b[0m img \u001b[39m=\u001b[39m img_to_array(img3)\n",
      "File \u001b[1;32mc:\\Users\\narma\\AppData\\Local\\Programs\\Python\\Python310\\lib\\site-packages\\keras\\utils\\image_utils.py:422\u001b[0m, in \u001b[0;36mload_img\u001b[1;34m(path, grayscale, color_mode, target_size, interpolation, keep_aspect_ratio)\u001b[0m\n\u001b[0;32m    420\u001b[0m     \u001b[39mif\u001b[39;00m \u001b[39misinstance\u001b[39m(path, pathlib\u001b[39m.\u001b[39mPath):\n\u001b[0;32m    421\u001b[0m         path \u001b[39m=\u001b[39m \u001b[39mstr\u001b[39m(path\u001b[39m.\u001b[39mresolve())\n\u001b[1;32m--> 422\u001b[0m     \u001b[39mwith\u001b[39;00m \u001b[39mopen\u001b[39;49m(path, \u001b[39m\"\u001b[39;49m\u001b[39mrb\u001b[39;49m\u001b[39m\"\u001b[39;49m) \u001b[39mas\u001b[39;00m f:\n\u001b[0;32m    423\u001b[0m         img \u001b[39m=\u001b[39m pil_image\u001b[39m.\u001b[39mopen(io\u001b[39m.\u001b[39mBytesIO(f\u001b[39m.\u001b[39mread()))\n\u001b[0;32m    424\u001b[0m \u001b[39melse\u001b[39;00m:\n",
      "\u001b[1;31mFileNotFoundError\u001b[0m: [Errno 2] No such file or directory: 'D:\\\\A.my documents\\\\A.opencv\\\\A.Python\\\\MNIST\\\\sample\\\\779.jpg'"
     ]
    }
   ],
   "source": [
    "img3_1=load_img('D:\\\\A.my documents\\\\A.opencv\\\\A.Python\\\\MNIST\\\\sample\\\\779.jpg', grayscale=True, target_size=(28, 28))\n",
    "img3=copy.copy(img3_1)\n",
    "\n",
    "img = img_to_array(img3)\n",
    "\n",
    "img = img.reshape(1, 28, 28, 1)\n",
    "img = img.astype('float32')\n",
    "img = img / 255.0\n",
    "\n",
    "\n",
    "y_pred1 = model1.predict(img)\n",
    "y_pred1 = np.argmax(y_pred1, axis=1)\n",
    "print(y_pred1)\n",
    "plt.imshow(img3_1, cmap='gray')"
   ]
  },
  {
   "cell_type": "code",
   "execution_count": null,
   "id": "1b0fbbe4-ba31-4292-8708-ac80a91d7fa1",
   "metadata": {},
   "outputs": [],
   "source": []
  }
 ],
 "metadata": {
  "kernelspec": {
   "display_name": "Python 3.10.6 64-bit",
   "language": "python",
   "name": "python3"
  },
  "language_info": {
   "codemirror_mode": {
    "name": "ipython",
    "version": 3
   },
   "file_extension": ".py",
   "mimetype": "text/x-python",
   "name": "python",
   "nbconvert_exporter": "python",
   "pygments_lexer": "ipython3",
   "version": "3.10.6 (tags/v3.10.6:9c7b4bd, Aug  1 2022, 21:53:49) [MSC v.1932 64 bit (AMD64)]"
  },
  "vscode": {
   "interpreter": {
    "hash": "6b8a165f5f87431ebb003bf99e3bd7788e290ee6eec7bc4795d7d33aaead80be"
   }
  }
 },
 "nbformat": 4,
 "nbformat_minor": 5
}
